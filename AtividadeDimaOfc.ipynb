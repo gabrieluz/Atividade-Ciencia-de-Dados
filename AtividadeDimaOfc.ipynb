{
  "nbformat": 4,
  "nbformat_minor": 0,
  "metadata": {
    "colab": {
      "name": "AtividadeDimaOfc.ipynb",
      "provenance": [],
      "collapsed_sections": [],
      "include_colab_link": true
    },
    "kernelspec": {
      "display_name": "Python 3",
      "name": "python3"
    }
  },
  "cells": [
    {
      "cell_type": "markdown",
      "metadata": {
        "id": "view-in-github",
        "colab_type": "text"
      },
      "source": [
        "<a href=\"https://colab.research.google.com/github/gabrieluz/Atividade-Ciencia-de-Dados/blob/main/AtividadeDimaOfc.ipynb\" target=\"_parent\"><img src=\"https://colab.research.google.com/assets/colab-badge.svg\" alt=\"Open In Colab\"/></a>"
      ]
    },
    {
      "cell_type": "markdown",
      "metadata": {
        "id": "A4lENt8xvx4-"
      },
      "source": [
        "# Atividade TADS\n"
      ]
    },
    {
      "cell_type": "code",
      "metadata": {
        "id": "rsaIHNaAwc3l"
      },
      "source": [
        "#Imports usados no notebook\n",
        "\n",
        "import pandas as pd\n",
        "import numpy as np\n",
        "import matplotlib.pyplot as plt\n",
        "from sklearn.model_selection import train_test_split\n",
        "from sklearn.linear_model import LinearRegression\n",
        "from sklearn.metrics import mean_absolute_error\n",
        "from numpy.testing import assert_approx_equal\n",
        "\n",
        "%matplotlib inline\n",
        "\n",
        "# Importante não mudar essa seed pois sua atividade será avaliada baseada nos resultados dessa seed\n",
        "np.random.seed(123)"
      ],
      "execution_count": 202,
      "outputs": []
    },
    {
      "cell_type": "markdown",
      "metadata": {
        "id": "DBzkOR1KgrFl"
      },
      "source": [
        "## 1. Importar o dataset no pandas (`pd.read_csv`):"
      ]
    },
    {
      "cell_type": "markdown",
      "metadata": {
        "id": "chysLv_Ua3JP"
      },
      "source": [
        "###  1.1 se atentar com os `index_col`.\n",
        "###  1.2 especificar os `dtypes` -- tem muita variável qualitativa nesse dataset. Usar o argumento `dtype` do `pd.read_csv` que aceita um dicionário. Ver a documentação do pandas."
      ]
    },
    {
      "cell_type": "code",
      "metadata": {
        "id": "mZpuiAmFwagC"
      },
      "source": [
        "# 1. Importar no Pandas\n",
        "df = pd.read_csv('https://github.com/storopoli/ciencia-de-dados/raw/master/notebooks/data/diamonds.csv', index_col=0, dtype={'carat':float,'cut':str, 'color':str, 'clarity': str, 'depth':float, 'table':float, 'price':int, 'x':float, 'y':float, 'z':float})"
      ],
      "execution_count": 203,
      "outputs": []
    },
    {
      "cell_type": "markdown",
      "metadata": {
        "id": "jw_Ube_DgO5c"
      },
      "source": [
        "## 2. Calcular algumas estatísticas dos dados com pandas `groupby`:"
      ]
    },
    {
      "cell_type": "markdown",
      "metadata": {
        "id": "-tzlXIX0aseC"
      },
      "source": [
        "###  2.1 Média e Mediana do `price` por `cut` * Guardar em variáveis: `mean_price_cut` e `median_price_cut`."
      ]
    },
    {
      "cell_type": "code",
      "metadata": {
        "id": "SMguJK5BwYSm"
      },
      "source": [
        "# 2. Groupbys\n",
        "mean_price_cut = df['price'].groupby(df['cut']).mean()\n",
        "median_price_cut = df['price'].groupby(df['cut']).median()"
      ],
      "execution_count": 204,
      "outputs": []
    },
    {
      "cell_type": "markdown",
      "metadata": {
        "id": "qmenWYCYh70R"
      },
      "source": [
        "###  2.2 Média e Mediana do `carat` por `color` * Guardar em variáveis: `mean_carat_color` e `median_carat_color`.\n"
      ]
    },
    {
      "cell_type": "code",
      "metadata": {
        "id": "rTwjMOpWh8t2"
      },
      "source": [
        "mean_carat_color = df['carat'].groupby(df['color']).mean()\n",
        "median_carat_color = df['carat'].groupby(df['color']).median()"
      ],
      "execution_count": 214,
      "outputs": []
    },
    {
      "cell_type": "markdown",
      "metadata": {
        "id": "jA-J6xsIgElY"
      },
      "source": [
        "## 3. Fazer alguns gráficos dos dados com o matplotlib.pyplot (Obs: pode usar direto a API do pandas para gráficos `Pd.plot`):"
      ]
    },
    {
      "cell_type": "markdown",
      "metadata": {
        "id": "4nLpouFQaoVZ"
      },
      "source": [
        "### 3.1 Histograma `hist` da variável `price`. Adicionar um título com `plt.title()` e adicionar os rótulos do eixo X e Y `plt.xlab()` e `plt.ylabel()`."
      ]
    },
    {
      "cell_type": "code",
      "metadata": {
        "id": "yNVsPfbEwWRh"
      },
      "source": [
        "# 3. Plots\n",
        "# Plot grafico da variavel 'price'\n",
        "# df['price'].plot(kind='hist') # outra forma\n",
        "plt.hist(df['price'], edgecolor='b')\n",
        "plt.title('Tabela Frequência de Preços de Diamantes')\n",
        "plt.ylabel('Frequência')\n",
        "plt.xlabel('Preço')\n",
        "plt.show()"
      ],
      "execution_count": null,
      "outputs": []
    },
    {
      "cell_type": "markdown",
      "metadata": {
        "id": "0GZUDJoFOonN"
      },
      "source": [
        "### 3.2 Gráfico de barras `bar` da variável `cut` (cuidado com o `Pd.Series.value_counts()`). Adicionar um título com `plt.title()` e adicionar os rótulos do eixo X e Y `plt.xlab()` e `plt.ylabel()`."
      ]
    },
    {
      "cell_type": "code",
      "metadata": {
        "id": "lF0g9WUge38O",
        "outputId": "361a4602-5c83-457f-92cd-49959f4d2a04",
        "colab": {
          "base_uri": "https://localhost:8080/",
          "height": 295
        }
      },
      "source": [
        "df_cut_x = df.value_counts('cut').index # faz a legenda ficar horizontal\n",
        "df_cut = df.value_counts('cut')\n",
        "# df_cut.plot.bar()\n",
        "plt.bar(df_cut_x, df_cut)\n",
        "plt.title('Tabela de Classificação por \"cut\" do diamante')\n",
        "plt.ylabel('Variação')\n",
        "plt.xlabel('Corte')\n",
        "plt.show()"
      ],
      "execution_count": 206,
      "outputs": [
        {
          "output_type": "display_data",
          "data": {
            "image/png": "[encoded data removed]",
            "text/plain": [
              "<Figure size 432x288 with 1 Axes>"
            ]
          },
          "metadata": {
            "tags": [],
            "needs_background": "light"
          }
        }
      ]
    },
    {
      "cell_type": "markdown",
      "metadata": {
        "id": "BeGemdbBbL9b"
      },
      "source": [
        "## 4. Preparar os dados para o Scikit-Learn\n",
        "#####  Pré-processamento Scikit-Learn\n",
        "  "
      ]
    },
    {
      "cell_type": "markdown",
      "metadata": {
        "id": "bGTZLaGJjecM"
      },
      "source": [
        "### 4.1 Codificar as variáveis qualitativas `cut`, `color` e `clarity` com dummies (OBS: atividade já realizada, inserida apenas para aprendizagem)"
      ]
    },
    {
      "cell_type": "code",
      "metadata": {
        "id": "zkPHNIVVbm79"
      },
      "source": [
        "df_final = pd.get_dummies(df, columns=['cut', 'color', 'clarity'])"
      ],
      "execution_count": 207,
      "outputs": []
    },
    {
      "cell_type": "markdown",
      "metadata": {
        "id": "2MDf16OGi0rm"
      },
      "source": [
        "### 4.2 Criar o dataset `X` com todas as variáveis do `df_final` **menos** `price`."
      ]
    },
    {
      "cell_type": "code",
      "metadata": {
        "id": "1Hv3E74tJydW"
      },
      "source": [
        "X = df_final.drop(columns=['price'])"
      ],
      "execution_count": 208,
      "outputs": []
    },
    {
      "cell_type": "markdown",
      "metadata": {
        "id": "CbjIGOHli1K8"
      },
      "source": [
        "### 4.3 Criar a resposta `y` **somente** com `price`."
      ]
    },
    {
      "cell_type": "code",
      "metadata": {
        "id": "66du5LwnRhMc"
      },
      "source": [
        "Y = df_final['price']"
      ],
      "execution_count": 209,
      "outputs": []
    },
    {
      "cell_type": "markdown",
      "metadata": {
        "id": "A9bz2WoHi12y"
      },
      "source": [
        "### 4.4 Quebrar em dados de treino e de teste com o `train_test_split`. Usar o padrão `test_size = 0.25`. **Não passar seed** no `random_state` pois estamos já setando uma global com o `np.random.seed`."
      ]
    },
    {
      "cell_type": "code",
      "metadata": {
        "id": "F52bE7kuwTzo"
      },
      "source": [
        "X_train, X_test, Y_train, Y_test = train_test_split(X, Y, test_size= 0.25)"
      ],
      "execution_count": 210,
      "outputs": []
    },
    {
      "cell_type": "markdown",
      "metadata": {
        "id": "2y_f9ep4eJlU"
      },
      "source": [
        "## 5. Treinar um modelo `LinearRegression` do Scikit-Learn para prever o `price` do diamante:"
      ]
    },
    {
      "cell_type": "markdown",
      "metadata": {
        "id": "rKkGpXAIjKI-"
      },
      "source": [
        "### 5.1 Reportar o erro absoluto médio `mean_absolute_error` do seu modelo nos dados de treino e dados de teste. Guardar em variáveis `mae_train` e `mae_test`."
      ]
    },
    {
      "cell_type": "code",
      "metadata": {
        "id": "2MxNTnjWeHca",
        "outputId": "01a4fc75-153c-4787-eb25-9cd50a98accb",
        "colab": {
          "base_uri": "https://localhost:8080/"
        }
      },
      "source": [
        "clf = LinearRegression()\n",
        "clf.fit(X_train, Y_train)"
      ],
      "execution_count": 211,
      "outputs": [
        {
          "output_type": "execute_result",
          "data": {
            "text/plain": [
              "LinearRegression(copy_X=True, fit_intercept=True, n_jobs=None, normalize=False)"
            ]
          },
          "metadata": {
            "tags": []
          },
          "execution_count": 211
        }
      ]
    },
    {
      "cell_type": "code",
      "metadata": {
        "id": "lZX8ZTh-wQ3I",
        "outputId": "5b9f1c40-14aa-4d44-eeb4-d6e57bed8636",
        "colab": {
          "base_uri": "https://localhost:8080/"
        }
      },
      "source": [
        "Y_pred_train = clf.predict(X_train)\n",
        "mae_train = mean_absolute_error(Y_pred_train, Y_train)\n",
        "\n",
        "Y_pred_test = clf.predict(X_test)\n",
        "mae_test = mean_absolute_error(Y_pred_test, Y_test)\n",
        "\n",
        "print(f\"MAE Treino: {format(mae_train,'.6f')}\")\n",
        "print(f\"MAE Teste: {format(mae_test, '.6f')}\")\n",
        "# print(f\"MAE Treino: {mae_train:.6f}\")\n",
        "# print(f\"MAE Teste: {mae_test:.6f}\")"
      ],
      "execution_count": 212,
      "outputs": [
        {
          "output_type": "stream",
          "text": [
            "MAE Treino: 742.023938\n",
            "MAE Teste: 741.971044\n"
          ],
          "name": "stdout"
        }
      ]
    },
    {
      "cell_type": "code",
      "metadata": {
        "id": "jDCX5TThvMSj"
      },
      "source": [
        "# Groupbys\n",
        "assert_approx_equal(mean_price_cut['Good'], 3928.8644)\n",
        "assert_approx_equal(median_price_cut['Fair'], 3282)\n",
        "assert_approx_equal(mean_carat_color['D'], 0.657794833)\n",
        "assert_approx_equal(median_carat_color['H'], 0.9)\n",
        "\n",
        "# MAEs\n",
        "assert_approx_equal(mae_train, 742.023938)\n",
        "# assert_approx_equal(mae_train, 739.279089)\n",
        "assert_approx_equal(mae_test, 741.971044)\n",
        "# assert_approx_equal(mae_test, 742.026558)"
      ],
      "execution_count": 213,
      "outputs": []
    }
  ]
}